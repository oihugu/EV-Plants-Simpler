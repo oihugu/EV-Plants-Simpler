{
 "cells": [
  {
   "cell_type": "code",
   "execution_count": 49,
   "metadata": {},
   "outputs": [],
   "source": [
    "from deap import gp, base, creator, tools, algorithms\n",
    "\n",
    "def add(x):\n",
    "    return '+' + x\n",
    "\n",
    "def sub(x):\n",
    "    return '-' + x\n",
    "\n",
    "def brackets(a,b,c):\n",
    "    return a + '[' + b + ']' + c\n",
    "\n",
    "def F(x):\n",
    "    return 'F' + x\n",
    "\n",
    "pset = gp.PrimitiveSet(\"MAIN\", 1)\n",
    "pset.addPrimitive(add, 1)\n",
    "pset.addPrimitive(sub, 1)\n",
    "pset.addPrimitive(F, 1)\n",
    "pset.addPrimitive(brackets, 3)\n",
    "pset.addTerminal('')\n",
    "pset.renameArguments(ARG0='x')\n",
    "\n",
    "creator.create(\"FitnessMax\", base.Fitness, weights=(1.0,))\n",
    "creator.create(\"Individual\", gp.PrimitiveTree, fitness=creator.FitnessMax)\n",
    "\n",
    "toolbox = base.Toolbox()\n",
    "toolbox.register(\"expr\", gp.genHalfAndHalf, pset=pset, min_=1, max_=2)\n",
    "toolbox.register(\"individual\", tools.initIterate, creator.Individual, toolbox.expr)\n",
    "toolbox.register(\"population\", tools.initRepeat, list, toolbox.individual)\n",
    "toolbox.register(\"compile\", gp.compile, pset=pset)\n",
    "\n",
    "expr = toolbox.individual()\n",
    "nodes, edges, labels = gp.graph(expr)\n"
   ]
  },
  {
   "cell_type": "code",
   "execution_count": 78,
   "metadata": {},
   "outputs": [],
   "source": [
    "from L_Systems import LSystem\n",
    "from Evaluation_Mectrics import *\n",
    "import datetime\n",
    "\n",
    "def evaluate(individual):\n",
    "    pai_1 = 'Output/a/a.png'\n",
    "    pai_2 = 'Output/b/b.png'\n",
    "    func = toolbox.compile(expr=individual)\n",
    "    ret = func('F')\n",
    "    name = f'test_{datetime.datetime.now().strftime(\"%Y%m%d%H%M%S.%f\")}'\n",
    "    sys = LSystem({'F' : ret}, 'F', 3, 5, 90, 25, (1250,1250))\n",
    "    sys.run('Temp', name)\n",
    "    return ((euclidianDistance(pai_1, f'Temp/{name}/{name}.png') + euclidianDistance(pai_2, f'Temp/{name}/{name}.png'))/2,0)"
   ]
  },
  {
   "cell_type": "code",
   "execution_count": 66,
   "metadata": {},
   "outputs": [],
   "source": [
    "import numpy as np"
   ]
  },
  {
   "cell_type": "code",
   "execution_count": 79,
   "metadata": {},
   "outputs": [],
   "source": [
    "pop = toolbox.population(n=2)"
   ]
  },
  {
   "cell_type": "code",
   "execution_count": 80,
   "metadata": {},
   "outputs": [],
   "source": [
    "pop[0] = pop[0].from_string('brackets(brackets(x, add(x), x), sub(x), x)', pset)\n",
    "pop[1] = pop[1].from_string('brackets(brackets(brackets(x, add(x), x), sub(x), \"\"), x, \"\")', pset)"
   ]
  },
  {
   "cell_type": "code",
   "execution_count": 81,
   "metadata": {},
   "outputs": [],
   "source": [
    "toolbox.register(\"evaluate\", evaluate)\n",
    "toolbox.register(\"select\", tools.selTournament, tournsize=3)\n",
    "toolbox.register(\"mate\", gp.cxOnePoint)\n",
    "toolbox.register(\"expr_mut\", gp.genFull, min_=0, max_=2)\n",
    "toolbox.register(\"mutate\", gp.mutUniform, expr=toolbox.expr_mut, pset=pset)\n"
   ]
  },
  {
   "cell_type": "code",
   "execution_count": 82,
   "metadata": {},
   "outputs": [],
   "source": [
    "stats_fit = tools.Statistics(lambda ind: ind.fitness.values)\n",
    "stats_size = tools.Statistics(len)\n",
    "mstats = tools.MultiStatistics(fitness=stats_fit, size=stats_size)\n",
    "mstats.register(\"avg\", np.mean)\n",
    "mstats.register(\"std\", np.std)\n",
    "mstats.register(\"min\", np.min)\n",
    "mstats.register(\"max\", np.max)"
   ]
  },
  {
   "cell_type": "code",
   "execution_count": 83,
   "metadata": {},
   "outputs": [
    {
     "name": "stdout",
     "output_type": "stream",
     "text": [
      "   \t      \t                               fitness                                \t                    size                   \n",
      "   \t      \t----------------------------------------------------------------------\t-------------------------------------------\n",
      "gen\tnevals\tavg       \tgen\tmax       \tmin       \tnevals\tstd   \tavg \tgen\tmax\tmin\tnevals\tstd\n",
      "0  \t2     \t20662980.0\t0  \t20669096.0\t20656864.0\t2     \t6116.0\t10.5\t0  \t12 \t9  \t2     \t1.5\n",
      "1  \t2     \t20649582.0\t1  \t20669096.0\t20630068.0\t2     \t19514.0\t7.5 \t1  \t9  \t6  \t2     \t1.5\n",
      "2  \t2     \t20649880.0\t2  \t20669724.0\t20630034.0\t2     \t19845.0\t7.5 \t2  \t10 \t5  \t2     \t2.5\n",
      "3  \t0     \t20669724.0\t3  \t20669724.0\t20669724.0\t0     \t0.0    \t10  \t3  \t10 \t10 \t0     \t0  \n",
      "4  \t0     \t20669724.0\t4  \t20669724.0\t20669724.0\t0     \t0.0    \t10  \t4  \t10 \t10 \t0     \t0  \n",
      "5  \t1     \t20658416.0\t5  \t20669724.0\t20647106.0\t1     \t11309.0\t11  \t5  \t12 \t10 \t1     \t1  \n",
      "6  \t2     \t20671252.0\t6  \t20673234.0\t20669270.0\t2     \t1982.0 \t10  \t6  \t11 \t9  \t2     \t1  \n",
      "7  \t0     \t20673234.0\t7  \t20673234.0\t20673234.0\t0     \t0.0    \t11  \t7  \t11 \t11 \t0     \t0  \n",
      "8  \t0     \t20673234.0\t8  \t20673234.0\t20673234.0\t0     \t0.0    \t11  \t8  \t11 \t11 \t0     \t0  \n",
      "9  \t2     \t20659560.0\t9  \t20671976.0\t20647144.0\t2     \t12416.0\t11  \t9  \t13 \t9  \t2     \t2  \n",
      "10 \t2     \t20658348.0\t10 \t20669596.0\t20647100.0\t2     \t11248.0\t11  \t10 \t12 \t10 \t2     \t1  \n",
      "11 \t1     \t20669590.0\t11 \t20669596.0\t20669584.0\t1     \t6.0    \t11  \t11 \t12 \t10 \t1     \t1  \n",
      "12 \t0     \t20669596.0\t12 \t20669596.0\t20669596.0\t0     \t0.0    \t12  \t12 \t12 \t12 \t0     \t0  \n"
     ]
    }
   ],
   "source": [
    "\n",
    "hof = tools.HallOfFame(1)\n",
    "pop, log = algorithms.eaSimple(pop, toolbox, 0.5, 0.1, 40, stats=mstats, halloffame=hof, verbose=True)"
   ]
  },
  {
   "cell_type": "code",
   "execution_count": null,
   "metadata": {},
   "outputs": [],
   "source": []
  },
  {
   "cell_type": "code",
   "execution_count": null,
   "metadata": {},
   "outputs": [],
   "source": []
  },
  {
   "cell_type": "code",
   "execution_count": null,
   "metadata": {},
   "outputs": [],
   "source": []
  },
  {
   "cell_type": "code",
   "execution_count": null,
   "metadata": {},
   "outputs": [],
   "source": []
  },
  {
   "cell_type": "code",
   "execution_count": null,
   "metadata": {},
   "outputs": [],
   "source": [
    "import matplotlib.pyplot as plt\n",
    "from networkx.drawing.nx_agraph import graphviz_layout\n",
    "import networkx as nx\n",
    "\n",
    "g = nx.Graph()\n",
    "g.add_nodes_from(nodes)\n",
    "g.add_edges_from(edges)\n",
    "pos = graphviz_layout(g, prog=\"dot\")\n",
    "\n",
    "nx.draw_networkx_nodes(g, pos)\n",
    "nx.draw_networkx_edges(g, pos)\n",
    "nx.draw_networkx_labels(g, pos, labels)\n",
    "plt.show()"
   ]
  },
  {
   "cell_type": "code",
   "execution_count": 32,
   "metadata": {},
   "outputs": [
    {
     "ename": "NameError",
     "evalue": "name 'j' is not defined",
     "output_type": "error",
     "traceback": [
      "\u001b[0;31m---------------------------------------------------------------------------\u001b[0m",
      "\u001b[0;31mNameError\u001b[0m                                 Traceback (most recent call last)",
      "\u001b[1;32m/mnt/c/Users/Hugo/Documents/EV-Plants-Simpler/gp_test.ipynb Cell 10'\u001b[0m in \u001b[0;36m<cell line: 1>\u001b[0;34m()\u001b[0m\n\u001b[0;32m----> <a href='vscode-notebook-cell://wsl%2Bubuntu/mnt/c/Users/Hugo/Documents/EV-Plants-Simpler/gp_test.ipynb#ch0000006vscode-remote?line=0'>1</a>\u001b[0m nodes, edges, labels \u001b[39m=\u001b[39m gp\u001b[39m.\u001b[39mgraph(j)\n\u001b[1;32m      <a href='vscode-notebook-cell://wsl%2Bubuntu/mnt/c/Users/Hugo/Documents/EV-Plants-Simpler/gp_test.ipynb#ch0000006vscode-remote?line=1'>2</a>\u001b[0m g \u001b[39m=\u001b[39m nx\u001b[39m.\u001b[39mGraph()\n\u001b[1;32m      <a href='vscode-notebook-cell://wsl%2Bubuntu/mnt/c/Users/Hugo/Documents/EV-Plants-Simpler/gp_test.ipynb#ch0000006vscode-remote?line=2'>3</a>\u001b[0m g\u001b[39m.\u001b[39madd_nodes_from(nodes)\n",
      "\u001b[0;31mNameError\u001b[0m: name 'j' is not defined"
     ]
    }
   ],
   "source": [
    "nodes, edges, labels = gp.graph(j)\n",
    "g = nx.Graph()\n",
    "g.add_nodes_from(nodes)\n",
    "g.add_edges_from(edges)\n",
    "pos = graphviz_layout(g, prog=\"dot\")\n",
    "\n",
    "nx.draw_networkx_nodes(g, pos)\n",
    "nx.draw_networkx_edges(g, pos)\n",
    "nx.draw_networkx_labels(g, pos, labels)\n",
    "plt.show()"
   ]
  },
  {
   "cell_type": "code",
   "execution_count": null,
   "metadata": {},
   "outputs": [],
   "source": []
  },
  {
   "cell_type": "code",
   "execution_count": null,
   "metadata": {},
   "outputs": [],
   "source": [
    "from deap import gp, base, creator, tools\n",
    "\n",
    "def add(x):\n",
    "    return '+' + x\n",
    "\n",
    "def sub(x):\n",
    "    return '-' + x\n",
    "\n",
    "def brackets(a,b,c):\n",
    "    return a + '[' + b + ']' + c\n",
    "\n",
    "def F(x):\n",
    "    return 'F' + x\n",
    "\n",
    "pset = gp.PrimitiveSet(\"MAIN\", 1)\n",
    "pset.addPrimitive(add, 1)\n",
    "pset.addPrimitive(sub, 1)\n",
    "pset.addPrimitive(F, 1)\n",
    "pset.addPrimitive(brackets, 3)\n",
    "pset.addTerminal('')\n",
    "pset.renameArguments(ARG0='x')\n",
    "\n",
    "creator.create(\"Individual\", list, fitness=creator.FitnessMax)\n",
    "\n",
    "\n",
    "toolbox = base.Toolbox()\n",
    "toolbox.register(\"expr\", gp.genHalfAndHalf, pset=pset, min_=3, max_=6)\n",
    "toolbox.register(\"individual\", tools.initIterate, creator.Individual, toolbox.expr)"
   ]
  }
 ],
 "metadata": {
  "interpreter": {
   "hash": "31f2aee4e71d21fbe5cf8b01ff0e069b9275f58929596ceb00d14d90e3e16cd6"
  },
  "kernelspec": {
   "display_name": "Python 3.8.10 64-bit",
   "language": "python",
   "name": "python3"
  },
  "language_info": {
   "codemirror_mode": {
    "name": "ipython",
    "version": 3
   },
   "file_extension": ".py",
   "mimetype": "text/x-python",
   "name": "python",
   "nbconvert_exporter": "python",
   "pygments_lexer": "ipython3",
   "version": "3.8.10"
  },
  "orig_nbformat": 4
 },
 "nbformat": 4,
 "nbformat_minor": 2
}
